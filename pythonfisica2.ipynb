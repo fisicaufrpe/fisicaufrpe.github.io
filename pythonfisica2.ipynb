{
 "cells": [
  {
   "cell_type": "markdown",
   "metadata": {},
   "source": [
    "# Looping\n",
    "#### [Voltar para a home.](index.html)\n",
    "O fascínio da montanha russa manifesta o seu esplendor máximo quando as pessoas se encontram numa posição invertida em relação ao seu movimento diário. Isto acontece quando percorrem o looping e se encontram no ponto mais afastado do solo. Esta simulação tenta recriar esta situação. Para tal, o utilizador pode escolher vários parâmetros que permitem definir várias alternativas para o movimento."
   ]
  },
  {
   "cell_type": "markdown",
   "metadata": {},
   "source": [
    "![](looping.gif)"
   ]
  },
  {
   "cell_type": "markdown",
   "metadata": {},
   "source": [
    "### Código\n",
    "http://www.esramada.pt/esr.media/images/alunos/trabalhos/fisicapython/looping_v_1.py"
   ]
  },
  {
   "cell_type": "markdown",
   "metadata": {},
   "source": [
    "#### [Voltar para a home.](index.html)"
   ]
  }
 ],
 "metadata": {
  "kernelspec": {
   "display_name": "Python 3",
   "language": "python",
   "name": "python3"
  },
  "language_info": {
   "codemirror_mode": {
    "name": "ipython",
    "version": 3
   },
   "file_extension": ".py",
   "mimetype": "text/x-python",
   "name": "python",
   "nbconvert_exporter": "python",
   "pygments_lexer": "ipython3",
   "version": "3.6.1"
  }
 },
 "nbformat": 4,
 "nbformat_minor": 2
}
