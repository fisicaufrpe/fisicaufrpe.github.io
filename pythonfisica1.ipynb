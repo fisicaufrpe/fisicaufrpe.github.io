{
 "cells": [
  {
   "cell_type": "markdown",
   "metadata": {},
   "source": [
    "# Projétil \n",
    "#### [Voltar para a home.](index.html)\n",
    "O lançamento oblíquo de objetos foi uma das áreas da física mais bem estudadas por Galileu Galilei, concluindo que este é a sobreposição de dois movimentos independentes. Quando existe ressalto dos objetos podemos comparar o comportamento de diferentes materiais com a sua dissipação de energia. Esta simulação tenta recriar esta situação. Para tal, o utilizador pode escolher alguns parâmetros e comparar os diferentes materiais."
   ]
  },
  {
   "cell_type": "markdown",
   "metadata": {},
   "source": [
    "![](projetil.gif)"
   ]
  },
  {
   "cell_type": "markdown",
   "metadata": {},
   "source": [
    "### CÓDIGO \n",
    "http://www.esramada.pt/esr.media/images/alunos/trabalhos/fisicapython/projetil_v_1.py"
   ]
  },
  {
   "cell_type": "markdown",
   "metadata": {},
   "source": [
    "#### [Voltar para a home.](index.html)"
   ]
  }
 ],
 "metadata": {
  "kernelspec": {
   "display_name": "Python 3",
   "language": "python",
   "name": "python3"
  },
  "language_info": {
   "codemirror_mode": {
    "name": "ipython",
    "version": 3
   },
   "file_extension": ".py",
   "mimetype": "text/x-python",
   "name": "python",
   "nbconvert_exporter": "python",
   "pygments_lexer": "ipython3",
   "version": "3.6.1"
  }
 },
 "nbformat": 4,
 "nbformat_minor": 2
}
