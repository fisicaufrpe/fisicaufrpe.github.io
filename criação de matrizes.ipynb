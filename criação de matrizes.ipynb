{
 "cells": [
  {
   "cell_type": "markdown",
   "metadata": {},
   "source": [
    "<img src=\"http://www.numpy.org/_static/numpy_logo.png\" width=600px>"
   ]
  },
  {
   "cell_type": "markdown",
   "metadata": {},
   "source": [
    "# Criação de matrizes com o Numpy\n",
    "#### [Voltar para a home.](index.html)"
   ]
  },
  {
   "cell_type": "markdown",
   "metadata": {},
   "source": [
    "## Matrizes de uma dimensão"
   ]
  },
  {
   "cell_type": "code",
   "execution_count": 37,
   "metadata": {},
   "outputs": [
    {
     "name": "stdout",
     "output_type": "stream",
     "text": [
      "Lista criada [-1, 2, -3, 4, -5]\n"
     ]
    }
   ],
   "source": [
    "l1 = [-1,2,-3,4,-5] #Cria lista de python de uma dimensão\n",
    "print (\"Lista criada\", l1) #Exibe a lista criada"
   ]
  },
  {
   "cell_type": "code",
   "execution_count": 46,
   "metadata": {},
   "outputs": [
    {
     "name": "stdout",
     "output_type": "stream",
     "text": [
      "Matriz criada apartir da l1 utilizando o comando np.array\n",
      "[-1  2 -3  4 -5]\n"
     ]
    }
   ],
   "source": [
    "import numpy as np #Importa a biblioteca numpy\n",
    "a = np.array(l1) #Cria uma matriz apartir da lista \"l1\"\n",
    "print(\"Matriz criada apartir da l1 utilizando o comando np.array\")\n",
    "print(a) #Exibe a matriz"
   ]
  },
  {
   "cell_type": "markdown",
   "metadata": {},
   "source": [
    "## Matrizes multidimensionais"
   ]
  },
  {
   "cell_type": "code",
   "execution_count": 27,
   "metadata": {},
   "outputs": [
    {
     "name": "stdout",
     "output_type": "stream",
     "text": [
      "Lista criada [[1, 2, 3], [6, 5, 4]]\n"
     ]
    }
   ],
   "source": [
    "l2 = [[1,2,3], [6,5,4]] #Cria uma lista de python de duas dimensões\n",
    "print (\"Lista criada\",l2) #Exibe a lista"
   ]
  },
  {
   "cell_type": "code",
   "execution_count": 40,
   "metadata": {},
   "outputs": [
    {
     "name": "stdout",
     "output_type": "stream",
     "text": [
      "Matriz criada apartir da l2 utilizando o comando np.array\n",
      "[[1 2 3]\n",
      " [6 5 4]]\n"
     ]
    }
   ],
   "source": [
    "d = np.array(l2) #Cria uma matriz apartir da lista \"l2\"\n",
    "print(\"Matriz criada apartir da l2 utilizando o comando np.array\")\n",
    "print(d) # Exibe a matriz"
   ]
  },
  {
   "cell_type": "code",
   "execution_count": 26,
   "metadata": {},
   "outputs": [
    {
     "name": "stdout",
     "output_type": "stream",
     "text": [
      "[[0 1 2]\n",
      " [3 4 5]\n",
      " [6 7 8]]\n"
     ]
    }
   ],
   "source": [
    "matriz = np.arange(9).reshape(3,3) #Criando matriz com numeros de zero a nove e dimensões 3 x 3\n",
    "print(matriz)\n",
    " "
   ]
  },
  {
   "cell_type": "markdown",
   "metadata": {},
   "source": [
    "#### [Voltar para a home.](index.html)"
   ]
  }
 ],
 "metadata": {
  "kernelspec": {
   "display_name": "Python 3",
   "language": "python",
   "name": "python3"
  },
  "language_info": {
   "codemirror_mode": {
    "name": "ipython",
    "version": 3
   },
   "file_extension": ".py",
   "mimetype": "text/x-python",
   "name": "python",
   "nbconvert_exporter": "python",
   "pygments_lexer": "ipython3",
   "version": "3.6.1"
  }
 },
 "nbformat": 4,
 "nbformat_minor": 2
}
