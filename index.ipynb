{
 "cells": [
  {
   "cell_type": "markdown",
   "metadata": {},
   "source": [
    "![](python_fisica.jpg)"
   ]
  },
  {
   "cell_type": "markdown",
   "metadata": {},
   "source": [
    "# Este site tem por finalidade mostrar para alunos iniciantes em programação científica a utilidade e praticidade na execução de simulações em diversas áreas com python.\n",
    "\n",
    "Python é uma excelente linguagem de programação e com a ajuda de algumas bibliotecas populares (numpy, matplotlib, vpython) torna-se um ambiente poderoso para a computação científica.\n",
    "\n"
   ]
  },
  {
   "cell_type": "markdown",
   "metadata": {},
   "source": [
    "# Numpy\n",
    "\n",
    "Em computação científica é muito comum o uso de arrays e o **Numpy** tem várias funções, entre elas: manipular arrays N-dimensionais, criar números aleatórios, operações de álgebra linear entre outros.\n",
    "\n",
    "###  [Criando Matrizes](criaçãomatrizes.html)\n",
    "###  [Manipulando e operando com Arrays](operaçãomatrizes.html) \n"
   ]
  },
  {
   "cell_type": "markdown",
   "metadata": {},
   "source": [
    "# Matplotlib\n",
    "Matplotlib é uma biblioteca do Python para criação de gráficos em 2D, bastante utilizada para visualização de dados e que apresenta uma série de possibilidades gráficas, como gráficos de barra, linha, pizza, histogramas, entre muitos outros.\n",
    "\n",
    "### [Esboçando e configurando gráficos](matplotlib.html)"
   ]
  },
  {
   "cell_type": "markdown",
   "metadata": {},
   "source": [
    "# VPython\n",
    "\n",
    "VPython é a linguagem de programação Python mais um módulo de gráficos 3D chamado Visual. O VPython permite aos usuários criar objetos como esferas e cones no espaço 3D e exibe esses objetos em uma janela.\n",
    "\n",
    "### [Python como laboratório]()"
   ]
  },
  {
   "cell_type": "markdown",
   "metadata": {},
   "source": [
    "# Python Física\n",
    "\n",
    "### [Projétil](pythonfisica1.html)"
   ]
  }
 ],
 "metadata": {
  "kernelspec": {
   "display_name": "Python 3",
   "language": "python",
   "name": "python3"
  },
  "language_info": {
   "codemirror_mode": {
    "name": "ipython",
    "version": 3
   },
   "file_extension": ".py",
   "mimetype": "text/x-python",
   "name": "python",
   "nbconvert_exporter": "python",
   "pygments_lexer": "ipython3",
   "version": "3.6.1"
  }
 },
 "nbformat": 4,
 "nbformat_minor": 2
}
