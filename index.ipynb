{
 "cells": [
  {
   "cell_type": "markdown",
   "metadata": {},
   "source": [
    "![](python_fisica.jpg)"
   ]
  },
  {
   "cell_type": "markdown",
   "metadata": {},
   "source": [
    "# Este site tem por finalidade mostrar a utilidade e praticidade de execução de simulações físicas com python.¶\n",
    "\n",
    "Mostraremos o uso de algumas ferramentas para experimentos físicos em python."
   ]
  },
  {
   "cell_type": "markdown",
   "metadata": {},
   "source": [
    "# [Numpy](numpy.html)\n",
    "\n",
    "Numpy tem várias funções, entre elas: manipular arrays N-dimensionais, criar números aleatórios, operações de álgebra linear entre outros.\n",
    "\n",
    "1. Criando arrays\n",
    "1. Manipulando Arrays\n",
    "1. Operações matematicas\n"
   ]
  },
  {
   "cell_type": "markdown",
   "metadata": {},
   "source": [
    "# [Matplotlib](matplotlib.html)\n",
    "Matplotlib é uma biblioteca do Python para criação de gráficos em 2D, bastante utilizada para visualização de dados e que apresenta uma série de possibilidades gráficas, como gráficos de barra, linha, pizza, histogramas, entre muitos outros.\n",
    "\n",
    "1. Esboçando Graficos\n",
    "2. Configurando gráficos"
   ]
  },
  {
   "cell_type": "markdown",
   "metadata": {},
   "source": [
    "# O VPython\n",
    "\n",
    "VPython é a linguagem de programação Python mais um módulo de gráficos 3D chamado Visual. O VPython permite aos usuários criar objetos como esferas e cones no espaço 3D e exibe esses objetos em uma janela.\n",
    "\n",
    "3. Python como laboratório"
   ]
  },
  {
   "cell_type": "markdown",
   "metadata": {},
   "source": []
  }
 ],
 "metadata": {
  "kernelspec": {
   "display_name": "Python 3",
   "language": "python",
   "name": "python3"
  },
  "language_info": {
   "codemirror_mode": {
    "name": "ipython",
    "version": 3
   },
   "file_extension": ".py",
   "mimetype": "text/x-python",
   "name": "python",
   "nbconvert_exporter": "python",
   "pygments_lexer": "ipython3",
   "version": "3.6.1"
  }
 },
 "nbformat": 4,
 "nbformat_minor": 2
}
