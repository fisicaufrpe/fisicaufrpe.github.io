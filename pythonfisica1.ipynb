{
 "cells": [
  {
   "cell_type": "markdown",
   "metadata": {},
   "source": [
    "# Projétil \n",
    "\n",
    "O lançamento oblíquo de objetos foi uma das áreas da física mais bem estudadas por Galileu Galilei, concluindo que este é a sobreposição de dois movimentos independentes. Quando existe ressalto dos objetos podemos comparar o comportamento de diferentes materiais com a sua dissipação de energia. Esta simulação tenta recriar esta situação. Para tal, o utilizador pode escolher alguns parâmetros e comparar os diferentes materiais."
   ]
  },
  {
   "cell_type": "markdown",
   "metadata": {},
   "source": [
    "![](projetil.gif)"
   ]
  },
  {
   "cell_type": "markdown",
   "metadata": {},
   "source": [
    "### CÓDIGO"
   ]
  },
  {
   "cell_type": "code",
   "execution_count": null,
   "metadata": {
    "collapsed": true
   },
   "outputs": [],
   "source": [
    "#\n",
    "#Copyright (C) 2012 Iúri Miguel Carolino Martinho\n",
    "#Escola Secundária da Ramada\n",
    "#\n",
    "#This program is free software; you can redistribute it and/or modify it under \n",
    "#the terms of the GNU General Public License as published by the Free Software \n",
    "#Foundation; either version 2 of the License, or (at your option) any later \n",
    "#version.\n",
    "#\n",
    "#This program is distributed in the hope that it will be useful, but WITHOUT \n",
    "#ANY WARRANTY; without even the implied warranty of MERCHANTABILITY or FITNESS \n",
    "#FOR A PARTICULAR PURPOSE. See the GNU General Public License for more details.\n",
    "#\n",
    " \n",
    "from visual import *\n",
    "vo=0\n",
    "a=-9.8\n",
    "an=0\n",
    "xo=-50\n",
    "yo=8.65\n",
    "yo2=-15.35\n",
    "yo3=-38.35\n",
    "yo4=31.65\n",
    "x=0\n",
    "y=0\n",
    " \n",
    "print (\"consideremos que o chão é feito de madeira\")\n",
    " \n",
    "while an<=0 or an>90:\n",
    "    an = int(input (\"Escolha o angulo de lançamento:\"))\n",
    "    if an<=0 or an>90:\n",
    "        print (\"O angulo tem de estar entre 0 e 90 graus\")\n",
    "     \n",
    "while vo<=0:\n",
    "    vo = int(input (\"Escolha a velocidade inicial:\"))\n",
    "    if vo <=0:\n",
    "        print(\"A velocidade tem que ser positiva\")\n",
    " \n",
    "chao = box(pos=(0,7,0), length=100, height=0.3, width=2, material=materials.wood) \n",
    "bola = sphere(pos=(-50,8.65,0), make_trail=True, radius=1.5, material=materials.wood)\n",
    "chao2 = box(pos=(0,-17,0), length=100, height=0.3, width=2, material=materials.wood) \n",
    "bola2 = sphere(pos=(-50,-15.35,0), make_trail=True,  radius=1.5, color=color.orange)\n",
    "chao3 = box(pos=(0,-40,0), length=100, height=0.3, width=2, material=materials.wood) \n",
    "bola3 = sphere(pos=(-50,-38.35,0), make_trail=True, radius=1.5, material=materials.plastic)\n",
    "chao4 = box(pos=(0,30,0), length=100, height=0.3, width=2, material=materials.wood) \n",
    "bola4 = sphere(pos=(-50,31.65,0), make_trail=True, radius=1.5, color=color.blue)\n",
    "text(text='Madeira', align='center', pos=(-43,3.5,0), height=3, depth=-0.3, color=color.white)\n",
    "text(text='Borracha', align='center', pos=(-43,-21.5,0), height=3, depth=-0.3, color=color.orange)\n",
    "text(text='Plástico', align='center', pos=(-43,-43.5,0), height=3, depth=-0.3, color=color.white)\n",
    "text(text='Vidro', align='center', pos=(-43,26.5,0), height=3, depth=-0.3, color=color.blue)\n",
    " \n",
    "tx=0\n",
    "ty=0\n",
    "ty2=0\n",
    "ty3=0\n",
    "ty4=0\n",
    "vox=vo*math.cos(an*pi/180)\n",
    "x=xo\n",
    "voy=vo*math.sin(an*pi/180)\n",
    "voy2=vo*math.sin(an*pi/180)\n",
    "voy3=vo*math.sin(an*pi/180)\n",
    "voy4=vo*math.sin(an*pi/180)\n",
    "y=yo\n",
    "y2=yo2\n",
    "y3=yo3\n",
    "y4=yo4\n",
    " \n",
    "while true:\n",
    "    rate (150)\n",
    "    tx=tx+0.01\n",
    "    ty=ty+0.01\n",
    "    ty2=ty2+0.01\n",
    "    ty3=ty3+0.01\n",
    "    ty4=ty4+0.01\n",
    "    x=xo+vox*tx\n",
    "    bola.x=x\n",
    "    bola2.x=x\n",
    "    bola3.x=x\n",
    "    bola4.x=x\n",
    "    y=yo+voy*ty+a/2*ty**2\n",
    "    y2=yo2+voy2*ty2+a/2*ty2**2\n",
    "    y3=yo3+voy3*ty3+a/2*ty3**2\n",
    "    y4=yo4+voy4*ty4+a/2*ty4**2\n",
    "    bola.y=y\n",
    "    bola2.y=y2\n",
    "    bola3.y=y3\n",
    "    bola4.y=y4\n",
    "    if y<8.65:\n",
    "        ty=0\n",
    "        voy=voy*0.5\n",
    "    if y2<-15.35:\n",
    "        ty2=0\n",
    "        voy2=voy2*0.81\n",
    "    if y3<-38.35:\n",
    "        ty3=0\n",
    "        voy3=voy3*0.65\n",
    "    if y4<31.65:\n",
    "        ty4=0\n",
    "        voy4=voy4*0.77\n",
    "    if voy2<=0.1:\n",
    "        break "
   ]
  }
 ],
 "metadata": {
  "kernelspec": {
   "display_name": "Python 3",
   "language": "python",
   "name": "python3"
  },
  "language_info": {
   "codemirror_mode": {
    "name": "ipython",
    "version": 3
   },
   "file_extension": ".py",
   "mimetype": "text/x-python",
   "name": "python",
   "nbconvert_exporter": "python",
   "pygments_lexer": "ipython3",
   "version": "3.6.1"
  }
 },
 "nbformat": 4,
 "nbformat_minor": 2
}
